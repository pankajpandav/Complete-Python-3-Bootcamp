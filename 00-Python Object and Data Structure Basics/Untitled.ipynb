{
 "cells": [
  {
   "cell_type": "code",
   "execution_count": 23,
   "metadata": {},
   "outputs": [
    {
     "name": "stdout",
     "output_type": "stream",
     "text": [
      "[0, 2, 3]\n"
     ]
    }
   ],
   "source": [
    "def checkifend(mylist):\n",
    "    end_list =[[0,1,2],[0,3,6],[0,4,8],[2,5,8],[2,4,6],[6,7,8]]\n",
    "    indicesx = [ i for i, x in enumerate(mylist) if x == 'X']\n",
    "    print(indicesx)\n",
    "    if len(indicesx) >= 3:\n",
    "        for subend in end_list:\n",
    "            result = all(elem in indicesx for elem in subend)\n",
    "            if result:\n",
    "                print(True)\n",
    "                break\n",
    "            \n",
    "test_board = ['X','O','X','X','O','O','','','']\n",
    "checkifend(test_board)"
   ]
  }
 ],
 "metadata": {
  "kernelspec": {
   "display_name": "Python 3",
   "language": "python",
   "name": "python3"
  },
  "language_info": {
   "codemirror_mode": {
    "name": "ipython",
    "version": 3
   },
   "file_extension": ".py",
   "mimetype": "text/x-python",
   "name": "python",
   "nbconvert_exporter": "python",
   "pygments_lexer": "ipython3",
   "version": "3.7.1"
  }
 },
 "nbformat": 4,
 "nbformat_minor": 2
}
