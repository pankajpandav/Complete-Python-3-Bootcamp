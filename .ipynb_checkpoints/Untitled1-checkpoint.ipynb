{
 "cells": [
  {
   "cell_type": "code",
   "execution_count": 22,
   "metadata": {},
   "outputs": [
    {
     "name": "stdout",
     "output_type": "stream",
     "text": [
      "Choose Your Next position: (1-9) 9\n",
      "   |   |   \n",
      " X | X | O \n",
      "   |   |   \n",
      "-----------\n",
      "   |   |   \n",
      " O | O | X \n",
      "   |   |   \n",
      "-----------\n",
      "   |   |   \n",
      "  |  |  \n",
      "   |   |   \n"
     ]
    },
    {
     "ename": "IndexError",
     "evalue": "list assignment index out of range",
     "output_type": "error",
     "traceback": [
      "\u001b[0;31m---------------------------------------------------------------------------\u001b[0m",
      "\u001b[0;31mIndexError\u001b[0m                                Traceback (most recent call last)",
      "\u001b[0;32m<ipython-input-22-0075bd7fd72d>\u001b[0m in \u001b[0;36m<module>\u001b[0;34m\u001b[0m\n\u001b[1;32m     99\u001b[0m         \u001b[0mprint\u001b[0m\u001b[0;34m(\u001b[0m\u001b[0;34m)\u001b[0m\u001b[0;34m\u001b[0m\u001b[0;34m\u001b[0m\u001b[0m\n\u001b[1;32m    100\u001b[0m \u001b[0;34m\u001b[0m\u001b[0m\n\u001b[0;32m--> 101\u001b[0;31m \u001b[0mstart_func\u001b[0m\u001b[0;34m(\u001b[0m\u001b[0;34m)\u001b[0m\u001b[0;34m\u001b[0m\u001b[0;34m\u001b[0m\u001b[0m\n\u001b[0m",
      "\u001b[0;32m<ipython-input-22-0075bd7fd72d>\u001b[0m in \u001b[0;36mstart_func\u001b[0;34m()\u001b[0m\n\u001b[1;32m     12\u001b[0m     \u001b[0;32mif\u001b[0m \u001b[0msin\u001b[0m\u001b[0;34m.\u001b[0m\u001b[0mlower\u001b[0m\u001b[0;34m(\u001b[0m\u001b[0;34m)\u001b[0m \u001b[0;34m==\u001b[0m \u001b[0;34m'yes'\u001b[0m\u001b[0;34m:\u001b[0m\u001b[0;34m\u001b[0m\u001b[0;34m\u001b[0m\u001b[0m\n\u001b[1;32m     13\u001b[0m         \u001b[0mmylist\u001b[0m \u001b[0;34m=\u001b[0m \u001b[0;34m[\u001b[0m\u001b[0;34m''\u001b[0m\u001b[0;34m,\u001b[0m\u001b[0;34m''\u001b[0m\u001b[0;34m,\u001b[0m\u001b[0;34m''\u001b[0m\u001b[0;34m,\u001b[0m\u001b[0;34m''\u001b[0m\u001b[0;34m,\u001b[0m\u001b[0;34m''\u001b[0m\u001b[0;34m,\u001b[0m\u001b[0;34m''\u001b[0m\u001b[0;34m,\u001b[0m\u001b[0;34m''\u001b[0m\u001b[0;34m,\u001b[0m\u001b[0;34m''\u001b[0m\u001b[0;34m,\u001b[0m\u001b[0;34m''\u001b[0m\u001b[0;34m]\u001b[0m\u001b[0;34m\u001b[0m\u001b[0;34m\u001b[0m\u001b[0m\n\u001b[0;32m---> 14\u001b[0;31m         \u001b[0mplayer_input\u001b[0m\u001b[0;34m(\u001b[0m\u001b[0mp1\u001b[0m\u001b[0;34m,\u001b[0m\u001b[0mp2\u001b[0m\u001b[0;34m,\u001b[0m\u001b[0mmylist\u001b[0m\u001b[0;34m)\u001b[0m\u001b[0;34m\u001b[0m\u001b[0;34m\u001b[0m\u001b[0m\n\u001b[0m\u001b[1;32m     15\u001b[0m \u001b[0;34m\u001b[0m\u001b[0m\n\u001b[1;32m     16\u001b[0m \u001b[0;31m#input_function()\u001b[0m\u001b[0;34m\u001b[0m\u001b[0;34m\u001b[0m\u001b[0;34m\u001b[0m\u001b[0m\n",
      "\u001b[0;32m<ipython-input-22-0075bd7fd72d>\u001b[0m in \u001b[0;36mplayer_input\u001b[0;34m(p1, p2, mylist)\u001b[0m\n\u001b[1;32m     27\u001b[0m          \u001b[0mdisplay_board\u001b[0m\u001b[0;34m(\u001b[0m\u001b[0mmylist\u001b[0m\u001b[0;34m)\u001b[0m\u001b[0;34m\u001b[0m\u001b[0;34m\u001b[0m\u001b[0m\n\u001b[1;32m     28\u001b[0m          \u001b[0min1\u001b[0m \u001b[0;34m=\u001b[0m \u001b[0minput\u001b[0m\u001b[0;34m(\u001b[0m\u001b[0;34m'Choose Your Next position: (1-9)'\u001b[0m\u001b[0;34m)\u001b[0m\u001b[0;34m\u001b[0m\u001b[0;34m\u001b[0m\u001b[0m\n\u001b[0;32m---> 29\u001b[0;31m      \u001b[0mmylist\u001b[0m\u001b[0;34m[\u001b[0m\u001b[0mint\u001b[0m\u001b[0;34m(\u001b[0m\u001b[0min1\u001b[0m\u001b[0;34m)\u001b[0m\u001b[0;34m]\u001b[0m \u001b[0;34m=\u001b[0m \u001b[0mcurr_player\u001b[0m\u001b[0;34m\u001b[0m\u001b[0;34m\u001b[0m\u001b[0m\n\u001b[0m\u001b[1;32m     30\u001b[0m      \u001b[0;32mif\u001b[0m \u001b[0mcurr_player\u001b[0m \u001b[0;34m==\u001b[0m \u001b[0mp1\u001b[0m\u001b[0;34m:\u001b[0m\u001b[0;34m\u001b[0m\u001b[0;34m\u001b[0m\u001b[0m\n\u001b[1;32m     31\u001b[0m          \u001b[0mcurr_player\u001b[0m \u001b[0;34m=\u001b[0m \u001b[0mp2\u001b[0m\u001b[0;34m\u001b[0m\u001b[0;34m\u001b[0m\u001b[0m\n",
      "\u001b[0;31mIndexError\u001b[0m: list assignment index out of range"
     ]
    }
   ],
   "source": [
    "from IPython.display import clear_output\n",
    "import itertools\n",
    "# Assigning players X or O\n",
    "def start_func():\n",
    "    p1 = input('Player1 : Please choose \"X\" or \"O\" :')\n",
    "    if p1 == 'X':\n",
    "        p2 = 'O'\n",
    "    else:\n",
    "        p2 = 'X'\n",
    "    print('Player 1 will go first.')\n",
    "    sin = input('Are you ready to play? Enter Yes or No.')\n",
    "    if sin.lower() == 'yes':\n",
    "        mylist = ['','','','','','','','','']\n",
    "        player_input(p1,p2,mylist)\n",
    "    \n",
    "#input_function()\n",
    "def player_input(p1,p2,mylist):\n",
    "     #\n",
    "    game_end = 'False'\n",
    "    curr_player = p1\n",
    "    while game_end != 'True':\n",
    "     clear_output()\n",
    "     if curr_player == p1:\n",
    "            display_board(mylist)\n",
    "            in1 = input('Choose Your Next position: (1-9) ')\n",
    "         \n",
    "     else:\n",
    "         display_board(mylist)\n",
    "         in1 = input('Choose Your Next position: (1-9)')\n",
    "     mylist[int(in1)-1] = curr_player\n",
    "     if curr_player == p1:\n",
    "         curr_player = p2\n",
    "     else:\n",
    "         curr_player = p1\n",
    "     game_end = checkifend(mylist)\n",
    "    if curr_player == p1:\n",
    "        curr_player = 'Player1'\n",
    "    else:\n",
    "        curr_player = 'Player2'\n",
    "    print(f'Congratulations {curr_player}, You have won the game!')\n",
    "\n",
    "#Function to check if game has ended!     \n",
    "def checkifend(mylist):\n",
    "    end_list =[[1,2,3],[1,4,7],[1,5,9],[3,6,9],[3,5,7],[7,8,9]]\n",
    "    indicesx = [ i for i, x in enumerate(mylist) if x == 'X']\n",
    "    indiceso = [ i for i, o in enumerate(mylist) if o == 'O']\n",
    "    if len(indicesx) >= 3 or len(indiceso) >= 3:\n",
    "        if indicesx in end_list or indiceso in end_list:\n",
    "            return True\n",
    "        else:\n",
    "            return False\n",
    "    else:\n",
    "        return False\n",
    "\n",
    "\n",
    "def display_board(board):\n",
    "    count = 0\n",
    "    for x in range(0,11):\n",
    "        for y in range(0,11):\n",
    "            if x == 1:\n",
    "                if y == 1:\n",
    "                    print(board[0], end='')\n",
    "                elif y == 5:\n",
    "                    print(board[1], end='')\n",
    "                elif y == 9:\n",
    "                    print(board[2], end='')\n",
    "                else:\n",
    "                    if y in [3,7]:\n",
    "                        print('|', end='')\n",
    "                    else:\n",
    "                        print(' ', end='')\n",
    "            elif x == 5:\n",
    "                if y == 1:\n",
    "                    print(board[3], end='')\n",
    "                elif y == 5:\n",
    "                    print(board[4], end='')\n",
    "                elif y == 9:\n",
    "                    print(board[5], end='')\n",
    "                else:\n",
    "                    if y in [3,7]:\n",
    "                        print('|', end='')\n",
    "                    else:\n",
    "                        print(' ', end='')\n",
    "            elif x == 9:\n",
    "                if y == 1:\n",
    "                    print(board[6], end='')\n",
    "                elif y == 5:\n",
    "                    print(board[7], end='')\n",
    "                elif y == 9:\n",
    "                    print(board[8], end='')\n",
    "                else:\n",
    "                    if y in [3,7]:\n",
    "                        print('|', end='')\n",
    "                    else:\n",
    "                        print(' ', end='')\n",
    "            elif x in [3,7]:\n",
    "                if y == 10:\n",
    "                    print('-', end='')\n",
    "                else:\n",
    "                    print('-', end='')\n",
    "            elif y in [3,7]:\n",
    "                print('|', end='')\n",
    "            else:\n",
    "                print(' ', end='')\n",
    "        print()\n",
    "\n",
    "start_func()\n"
   ]
  },
  {
   "cell_type": "code",
   "execution_count": 9,
   "metadata": {},
   "outputs": [
    {
     "ename": "AttributeError",
     "evalue": "'function' object has no attribute 'next'",
     "output_type": "error",
     "traceback": [
      "\u001b[0;31m---------------------------------------------------------------------------\u001b[0m",
      "\u001b[0;31mAttributeError\u001b[0m                            Traceback (most recent call last)",
      "\u001b[0;32m<ipython-input-9-46c46bb40f53>\u001b[0m in \u001b[0;36m<module>\u001b[0;34m\u001b[0m\n\u001b[0;32m----> 1\u001b[0;31m \u001b[0malternate\u001b[0m\u001b[0;34m.\u001b[0m\u001b[0mnext\u001b[0m\u001b[0;34m\u001b[0m\u001b[0;34m\u001b[0m\u001b[0m\n\u001b[0m",
      "\u001b[0;31mAttributeError\u001b[0m: 'function' object has no attribute 'next'"
     ]
    }
   ],
   "source": [
    "alternate.next"
   ]
  },
  {
   "cell_type": "code",
   "execution_count": 10,
   "metadata": {},
   "outputs": [
    {
     "ename": "AttributeError",
     "evalue": "'itertools.cycle' object has no attribute 'next'",
     "output_type": "error",
     "traceback": [
      "\u001b[0;31m---------------------------------------------------------------------------\u001b[0m",
      "\u001b[0;31mAttributeError\u001b[0m                            Traceback (most recent call last)",
      "\u001b[0;32m<ipython-input-10-671c131027e4>\u001b[0m in \u001b[0;36m<module>\u001b[0;34m\u001b[0m\n\u001b[1;32m      1\u001b[0m \u001b[0;32mimport\u001b[0m \u001b[0mitertools\u001b[0m\u001b[0;34m\u001b[0m\u001b[0;34m\u001b[0m\u001b[0m\n\u001b[0;32m----> 2\u001b[0;31m \u001b[0mmyIterator\u001b[0m \u001b[0;34m=\u001b[0m \u001b[0mitertools\u001b[0m\u001b[0;34m.\u001b[0m\u001b[0mcycle\u001b[0m\u001b[0;34m(\u001b[0m\u001b[0;34m[\u001b[0m\u001b[0;36m0\u001b[0m\u001b[0;34m,\u001b[0m\u001b[0;36m1\u001b[0m\u001b[0;34m]\u001b[0m\u001b[0;34m)\u001b[0m\u001b[0;34m.\u001b[0m\u001b[0mnext\u001b[0m\u001b[0;34m\u001b[0m\u001b[0;34m\u001b[0m\u001b[0m\n\u001b[0m",
      "\u001b[0;31mAttributeError\u001b[0m: 'itertools.cycle' object has no attribute 'next'"
     ]
    }
   ],
   "source": [
    "import itertools\n",
    "myIterator = itertools.cycle([0,1]).next"
   ]
  },
  {
   "cell_type": "code",
   "execution_count": 11,
   "metadata": {},
   "outputs": [
    {
     "ename": "AttributeError",
     "evalue": "'itertools.cycle' object has no attribute 'next'",
     "output_type": "error",
     "traceback": [
      "\u001b[0;31m---------------------------------------------------------------------------\u001b[0m",
      "\u001b[0;31mAttributeError\u001b[0m                            Traceback (most recent call last)",
      "\u001b[0;32m<ipython-input-11-c442698feef0>\u001b[0m in \u001b[0;36m<module>\u001b[0;34m\u001b[0m\n\u001b[0;32m----> 1\u001b[0;31m \u001b[0mmyIterator\u001b[0m\u001b[0;34m.\u001b[0m\u001b[0mnext\u001b[0m\u001b[0;34m(\u001b[0m\u001b[0;34m)\u001b[0m\u001b[0;34m\u001b[0m\u001b[0;34m\u001b[0m\u001b[0m\n\u001b[0m",
      "\u001b[0;31mAttributeError\u001b[0m: 'itertools.cycle' object has no attribute 'next'"
     ]
    }
   ],
   "source": [
    "myIterator.next()"
   ]
  }
 ],
 "metadata": {
  "kernelspec": {
   "display_name": "Python 3",
   "language": "python",
   "name": "python3"
  },
  "language_info": {
   "codemirror_mode": {
    "name": "ipython",
    "version": 3
   },
   "file_extension": ".py",
   "mimetype": "text/x-python",
   "name": "python",
   "nbconvert_exporter": "python",
   "pygments_lexer": "ipython3",
   "version": "3.7.1"
  }
 },
 "nbformat": 4,
 "nbformat_minor": 2
}
